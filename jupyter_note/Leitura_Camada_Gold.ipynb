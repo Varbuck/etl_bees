{
 "cells": [
  {
   "cell_type": "code",
   "execution_count": 2,
   "metadata": {
    "vscode": {
     "languageId": "plaintext"
    }
   },
   "outputs": [
    {
     "name": "stdout",
     "output_type": "stream",
     "text": [
      "Collecting pyspark==3.5.0\n",
      "  Downloading pyspark-3.5.0.tar.gz (316.9 MB)\n",
      "\u001b[2K     \u001b[90m━━━━━━━━━━━━━━━━━━━━━━━━━━━━━━━━━━━━━━━\u001b[0m \u001b[32m316.9/316.9 MB\u001b[0m \u001b[31m1.2 MB/s\u001b[0m eta \u001b[36m0:00:00\u001b[0m00:01\u001b[0m00:01\u001b[0m\n",
      "\u001b[?25h  Preparing metadata (setup.py) ... \u001b[?25ldone\n",
      "\u001b[?25hRequirement already satisfied: py4j==0.10.9.7 in /opt/conda/lib/python3.11/site-packages (from pyspark==3.5.0) (0.10.9.7)\n",
      "Building wheels for collected packages: pyspark\n",
      "  Building wheel for pyspark (setup.py) ... \u001b[?25ldone\n",
      "\u001b[?25h  Created wheel for pyspark: filename=pyspark-3.5.0-py2.py3-none-any.whl size=317425344 sha256=224a52d01130e3a94b1384e8f13819fe9e0b7d90637eff9470a40f68e8997995\n",
      "  Stored in directory: /home/jovyan/.cache/pip/wheels/38/df/61/8c121f50c3cffd77f8178180dd232d90b3b99d1bd61fb6d6be\n",
      "Successfully built pyspark\n",
      "Installing collected packages: pyspark\n",
      "  Attempting uninstall: pyspark\n",
      "    Found existing installation: pyspark 3.5.3\n",
      "    Uninstalling pyspark-3.5.3:\n",
      "\u001b[31mERROR: Could not install packages due to an OSError: [Errno 13] Permission denied: 'find_spark_home.cpython-311.pyc'\n",
      "Consider using the `--user` option or check the permissions.\n",
      "\u001b[0m\u001b[31m\n",
      "\u001b[0mCollecting delta-spark==3.2.0\n",
      "  Downloading delta_spark-3.2.0-py3-none-any.whl.metadata (2.0 kB)\n",
      "Requirement already satisfied: pyspark<3.6.0,>=3.5.0 in /opt/conda/lib/python3.11/site-packages (from delta-spark==3.2.0) (3.5.3)\n",
      "Requirement already satisfied: importlib-metadata>=1.0.0 in /opt/conda/lib/python3.11/site-packages (from delta-spark==3.2.0) (6.8.0)\n",
      "Requirement already satisfied: zipp>=0.5 in /opt/conda/lib/python3.11/site-packages (from importlib-metadata>=1.0.0->delta-spark==3.2.0) (3.17.0)\n",
      "Requirement already satisfied: py4j==0.10.9.7 in /opt/conda/lib/python3.11/site-packages (from pyspark<3.6.0,>=3.5.0->delta-spark==3.2.0) (0.10.9.7)\n",
      "Downloading delta_spark-3.2.0-py3-none-any.whl (21 kB)\n",
      "Installing collected packages: delta-spark\n",
      "Successfully installed delta-spark-3.2.0\n"
     ]
    }
   ],
   "source": [
    "# Istalação de bibliotecas \n",
    "!pip install pyspark==3.5.0\n",
    "!pip install delta-spark==3.2.0"
   ]
  },
  {
   "cell_type": "code",
   "execution_count": 3,
   "metadata": {
    "vscode": {
     "languageId": "plaintext"
    }
   },
   "outputs": [
    {
     "name": "stdout",
     "output_type": "stream",
     "text": [
      ":: loading settings :: url = jar:file:/opt/conda/lib/python3.11/site-packages/pyspark/jars/ivy-2.5.1.jar!/org/apache/ivy/core/settings/ivysettings.xml\n"
     ]
    },
    {
     "name": "stderr",
     "output_type": "stream",
     "text": [
      "Ivy Default Cache set to: /home/jovyan/.ivy2/cache\n",
      "The jars for the packages stored in: /home/jovyan/.ivy2/jars\n",
      "io.delta#delta-spark_2.12 added as a dependency\n",
      ":: resolving dependencies :: org.apache.spark#spark-submit-parent-14b0a3ab-4f58-4e68-8f44-f4475736821f;1.0\n",
      "\tconfs: [default]\n",
      "\tfound io.delta#delta-spark_2.12;3.2.0 in central\n",
      "\tfound io.delta#delta-storage;3.2.0 in central\n",
      "\tfound org.antlr#antlr4-runtime;4.9.3 in central\n",
      "downloading https://repo1.maven.org/maven2/io/delta/delta-spark_2.12/3.2.0/delta-spark_2.12-3.2.0.jar ...\n",
      "\t[SUCCESSFUL ] io.delta#delta-spark_2.12;3.2.0!delta-spark_2.12.jar (1354ms)\n",
      "downloading https://repo1.maven.org/maven2/io/delta/delta-storage/3.2.0/delta-storage-3.2.0.jar ...\n",
      "\t[SUCCESSFUL ] io.delta#delta-storage;3.2.0!delta-storage.jar (288ms)\n",
      "downloading https://repo1.maven.org/maven2/org/antlr/antlr4-runtime/4.9.3/antlr4-runtime-4.9.3.jar ...\n",
      "\t[SUCCESSFUL ] org.antlr#antlr4-runtime;4.9.3!antlr4-runtime.jar (295ms)\n",
      ":: resolution report :: resolve 3851ms :: artifacts dl 1944ms\n",
      "\t:: modules in use:\n",
      "\tio.delta#delta-spark_2.12;3.2.0 from central in [default]\n",
      "\tio.delta#delta-storage;3.2.0 from central in [default]\n",
      "\torg.antlr#antlr4-runtime;4.9.3 from central in [default]\n",
      "\t---------------------------------------------------------------------\n",
      "\t|                  |            modules            ||   artifacts   |\n",
      "\t|       conf       | number| search|dwnlded|evicted|| number|dwnlded|\n",
      "\t---------------------------------------------------------------------\n",
      "\t|      default     |   3   |   3   |   3   |   0   ||   3   |   3   |\n",
      "\t---------------------------------------------------------------------\n",
      ":: retrieving :: org.apache.spark#spark-submit-parent-14b0a3ab-4f58-4e68-8f44-f4475736821f\n",
      "\tconfs: [default]\n",
      "\t3 artifacts copied, 0 already retrieved (6321kB/16ms)\n",
      "24/12/03 12:46:40 WARN NativeCodeLoader: Unable to load native-hadoop library for your platform... using builtin-java classes where applicable\n",
      "Setting default log level to \"WARN\".\n",
      "To adjust logging level use sc.setLogLevel(newLevel). For SparkR, use setLogLevel(newLevel).\n"
     ]
    }
   ],
   "source": [
    "from pyspark.sql import SparkSession\n",
    "from delta import configure_spark_with_delta_pip\n",
    "\n",
    "builder = SparkSession.builder \\\n",
    "    .appName(\"Jupyter Delta Table\") \\\n",
    "    .config(\"spark.sql.extensions\", \"io.delta.sql.DeltaSparkSessionExtension\") \\\n",
    "    .config(\"spark.sql.catalog.spark_catalog\", \"org.apache.spark.sql.delta.catalog.DeltaCatalog\")\n",
    "\n",
    "spark = configure_spark_with_delta_pip(builder).getOrCreate()"
   ]
  },
  {
   "cell_type": "code",
   "execution_count": 5,
   "metadata": {
    "vscode": {
     "languageId": "plaintext"
    }
   },
   "outputs": [],
   "source": [
    "gold_table_path = '/home/jovyan/work/data/gold/breweries/num_breweries_per_state'\n",
    "\n",
    "df_gold = spark.read.format(\"delta\").load(gold_table_path)"
   ]
  },
  {
   "cell_type": "code",
   "execution_count": 7,
   "metadata": {
    "vscode": {
     "languageId": "plaintext"
    }
   },
   "outputs": [
    {
     "name": "stdout",
     "output_type": "stream",
     "text": [
      "+--------------+------------+----------------+--------------------+\n",
      "|         state|brewery_type|brewery_quantity|        dt_ingestion|\n",
      "+--------------+------------+----------------+--------------------+\n",
      "|        OREGON|    planning|              12|2024-12-02 17:57:...|\n",
      "|      MICHIGAN|    contract|               3|2024-12-02 17:57:...|\n",
      "|      ILLINOIS|     brewpub|              88|2024-12-02 17:57:...|\n",
      "|NORTH CAROLINA|       large|               4|2024-12-02 17:57:...|\n",
      "|     MINNESOTA|       micro|             110|2024-12-02 17:57:...|\n",
      "|    WASHINGTON|    location|               1|2024-12-02 17:57:...|\n",
      "|          OHIO|       large|               2|2024-12-02 17:57:...|\n",
      "|      MISSOURI|       large|               1|2024-12-02 17:57:...|\n",
      "|      NEW YORK|    regional|               9|2024-12-02 17:57:...|\n",
      "|        OREGON|    regional|              13|2024-12-02 17:57:...|\n",
      "|      COLORADO|       micro|             228|2024-12-02 17:57:...|\n",
      "|          OHIO|    contract|               7|2024-12-02 17:57:...|\n",
      "|     WISCONSIN|      closed|              10|2024-12-02 17:57:...|\n",
      "|      MISSOURI|    regional|               8|2024-12-02 17:57:...|\n",
      "|     WISCONSIN|        nano|               1|2024-12-02 17:57:...|\n",
      "|    WASHINGTON|       micro|             268|2024-12-02 17:57:...|\n",
      "|      COLORADO|     brewpub|             141|2024-12-02 17:57:...|\n",
      "|      MICHIGAN|    regional|               9|2024-12-02 17:57:...|\n",
      "|         TEXAS|    regional|              10|2024-12-02 17:57:...|\n",
      "|  PENNSYLVANIA|    planning|              36|2024-12-02 17:57:...|\n",
      "|      MICHIGAN|    planning|              21|2024-12-02 17:57:...|\n",
      "|      ILLINOIS|       micro|             123|2024-12-02 17:57:...|\n",
      "|         TEXAS|  proprietor|               1|2024-12-02 17:57:...|\n",
      "|    WASHINGTON|      closed|              74|2024-12-02 17:57:...|\n",
      "|         TEXAS|    planning|              56|2024-12-02 17:57:...|\n",
      "|    CALIFORNIA|    contract|              27|2024-12-02 17:57:...|\n",
      "|      MISSOURI|      closed|              13|2024-12-02 17:57:...|\n",
      "|         TEXAS|       micro|             196|2024-12-02 17:57:...|\n",
      "|      NEW YORK|       large|               4|2024-12-02 17:57:...|\n",
      "|        OREGON|  proprietor|               2|2024-12-02 17:57:...|\n",
      "+--------------+------------+----------------+--------------------+\n",
      "only showing top 30 rows\n",
      "\n"
     ]
    }
   ],
   "source": [
    "df_gold.show(30)"
   ]
  },
  {
   "cell_type": "code",
   "execution_count": null,
   "metadata": {},
   "outputs": [],
   "source": []
  }
 ],
 "metadata": {
  "kernelspec": {
   "display_name": "Python 3 (ipykernel)",
   "language": "python",
   "name": "python3"
  },
  "language_info": {
   "codemirror_mode": {
    "name": "ipython",
    "version": 3
   },
   "file_extension": ".py",
   "mimetype": "text/x-python",
   "name": "python",
   "nbconvert_exporter": "python",
   "pygments_lexer": "ipython3",
   "version": "3.11.6"
  }
 },
 "nbformat": 4,
 "nbformat_minor": 4
}
